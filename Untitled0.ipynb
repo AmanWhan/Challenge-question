{
  "nbformat": 4,
  "nbformat_minor": 0,
  "metadata": {
    "colab": {
      "provenance": [],
      "authorship_tag": "ABX9TyPao0Fy+b1t312c4mTpMzrD",
      "include_colab_link": true
    },
    "kernelspec": {
      "name": "python3",
      "display_name": "Python 3"
    },
    "language_info": {
      "name": "python"
    }
  },
  "cells": [
    {
      "cell_type": "markdown",
      "metadata": {
        "id": "view-in-github",
        "colab_type": "text"
      },
      "source": [
        "<a href=\"https://colab.research.google.com/github/AmanWhan/Challenge-question/blob/main/Untitled0.ipynb\" target=\"_parent\"><img src=\"https://colab.research.google.com/assets/colab-badge.svg\" alt=\"Open In Colab\"/></a>"
      ]
    },
    {
      "cell_type": "code",
      "execution_count": 9,
      "metadata": {
        "colab": {
          "base_uri": "https://localhost:8080/"
        },
        "id": "F6KxYxMEst16",
        "outputId": "4b95d850-0fce-4cb4-b842-8435155be2b4"
      },
      "outputs": [
        {
          "output_type": "stream",
          "name": "stdout",
          "text": [
            "['Ram', 1, 'Shyam', 2, 'Aman', 3]\n",
            "['1', '2', '3', 'Aman', 'Ram', 'Shyam']\n",
            "[1, 2, 3, 'Aman', 'Ram', 'Shyam']\n",
            "total time for execuion: 0.00066375732421875\n"
          ]
        }
      ],
      "source": [
        "import time\n",
        "t1 = time.time()\n",
        "L = [\"Ram\",1,\"Shyam\",2,\"Aman\",3]\n",
        "print(L)\n",
        "L =[str(i) for i in L]\n",
        "L.sort()\n",
        "print(L)\n",
        "\n",
        "L1 = []\n",
        "for i in L:\n",
        "    try:\n",
        "      L1.append(int(i))\n",
        "    except:\n",
        "      L1.append(i)\n",
        "print(L1)\n",
        "t2 = time.time()\n",
        "\n",
        "print(\"total time for execuion:\",t2-t1)\n"
      ]
    }
  ]
}